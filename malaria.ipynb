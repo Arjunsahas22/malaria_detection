{
 "cells": [
  {
   "cell_type": "code",
   "execution_count": 42,
   "metadata": {},
   "outputs": [],
   "source": [
    "# import the libraries\n",
    "from tensorflow.keras.layers import Input, Lambda, Dense, Flatten, Conv2D, MaxPooling2D\n",
    "from tensorflow.keras.models import Model\n",
    "from keras.preprocessing.image import ImageDataGenerator\n",
    "from tensorflow.keras.preprocessing import image\n",
    "from tensorflow.keras.models import load_model\n",
    "from tensorflow.keras.preprocessing.image import ImageDataGenerator,load_img\n",
    "from tensorflow.keras.models import Sequential\n",
    "import numpy as np\n",
    "from glob import glob\n",
    "import matplotlib.pyplot as plt\n",
    "%matplotlib inline\n",
    "from keras.preprocessing.image import ImageDataGenerator"
   ]
  },
  {
   "cell_type": "code",
   "execution_count": 43,
   "metadata": {},
   "outputs": [],
   "source": [
    "# re-size all the images to this\n",
    "IMAGE_SIZE = [224, 224]"
   ]
  },
  {
   "cell_type": "code",
   "execution_count": 44,
   "metadata": {},
   "outputs": [],
   "source": [
    "# Use the Image Data Generator to import the images from the dataset\n",
    "train_datagen = ImageDataGenerator(rescale = 1./255,\n",
    "                                   shear_range = 0.2,\n",
    "                                   zoom_range = 0.2,\n",
    "                                   horizontal_flip = True)\n",
    "\n",
    "test_datagen = ImageDataGenerator(rescale = 1./255)"
   ]
  },
  {
   "cell_type": "code",
   "execution_count": 45,
   "metadata": {},
   "outputs": [
    {
     "name": "stdout",
     "output_type": "stream",
     "text": [
      "Found 416 images belonging to 2 classes.\n"
     ]
    }
   ],
   "source": [
    "#importing test training dataset\n",
    "training_set = train_datagen.flow_from_directory(r'C:\\Users\\Arjun sahas\\new_project\\Dataset\\Dataset\\train',\n",
    "                                                 target_size = (224, 224),\n",
    "                                                 batch_size = 32,\n",
    "                                                 class_mode = 'categorical')\n"
   ]
  },
  {
   "cell_type": "code",
   "execution_count": 46,
   "metadata": {},
   "outputs": [
    {
     "name": "stdout",
     "output_type": "stream",
     "text": [
      "Found 134 images belonging to 2 classes.\n"
     ]
    }
   ],
   "source": [
    "#importing test Dataset.\n",
    "test_set = test_datagen.flow_from_directory(r'C:\\Users\\Arjun sahas\\new_project\\Dataset\\Dataset\\test',\n",
    "                                            target_size = (224, 224),\n",
    "                                            batch_size = 32,\n",
    "                                            class_mode = 'categorical')"
   ]
  },
  {
   "cell_type": "code",
   "execution_count": 47,
   "metadata": {},
   "outputs": [
    {
     "name": "stdout",
     "output_type": "stream",
     "text": [
      "Model: \"sequential_4\"\n",
      "_________________________________________________________________\n",
      " Layer (type)                Output Shape              Param #   \n",
      "=================================================================\n",
      " conv2d_12 (Conv2D)          (None, 224, 224, 16)      208       \n",
      "                                                                 \n",
      " max_pooling2d_12 (MaxPoolin  (None, 112, 112, 16)     0         \n",
      " g2D)                                                            \n",
      "                                                                 \n",
      " conv2d_13 (Conv2D)          (None, 112, 112, 32)      2080      \n",
      "                                                                 \n",
      " max_pooling2d_13 (MaxPoolin  (None, 56, 56, 32)       0         \n",
      " g2D)                                                            \n",
      "                                                                 \n",
      " conv2d_14 (Conv2D)          (None, 56, 56, 64)        8256      \n",
      "                                                                 \n",
      " max_pooling2d_14 (MaxPoolin  (None, 28, 28, 64)       0         \n",
      " g2D)                                                            \n",
      "                                                                 \n",
      " flatten_4 (Flatten)         (None, 50176)             0         \n",
      "                                                                 \n",
      " dense_8 (Dense)             (None, 500)               25088500  \n",
      "                                                                 \n",
      " dense_9 (Dense)             (None, 2)                 1002      \n",
      "                                                                 \n",
      "=================================================================\n",
      "Total params: 25,100,046\n",
      "Trainable params: 25,100,046\n",
      "Non-trainable params: 0\n",
      "_________________________________________________________________\n"
     ]
    }
   ],
   "source": [
    "#Create Model using CNN\n",
    "model=Sequential()\n",
    "model.add(Conv2D(filters=16,kernel_size=2,padding=\"same\",activation=\"relu\",input_shape=(224,224,3)))\n",
    "model.add(MaxPooling2D(pool_size=2))\n",
    "model.add(Conv2D(filters=32,kernel_size=2,padding=\"same\",activation =\"relu\"))\n",
    "model.add(MaxPooling2D(pool_size=2))\n",
    "model.add(Conv2D(filters=64,kernel_size=2,padding=\"same\",activation=\"relu\"))\n",
    "model.add(MaxPooling2D(pool_size=2))\n",
    "model.add(Flatten())\n",
    "model.add(Dense(500,activation=\"relu\"))\n",
    "model.add(Dense(2,activation=\"softmax\"))\n",
    "model.summary()"
   ]
  },
  {
   "cell_type": "code",
   "execution_count": 48,
   "metadata": {},
   "outputs": [],
   "source": [
    "#cost and optimization method\n",
    "model.compile(\n",
    "  loss='categorical_crossentropy',\n",
    "  optimizer='adam',\n",
    "  metrics=['accuracy']\n",
    ")"
   ]
  },
  {
   "cell_type": "code",
   "execution_count": 49,
   "metadata": {},
   "outputs": [
    {
     "name": "stderr",
     "output_type": "stream",
     "text": [
      "<ipython-input-49-d5a7b0c36368>:2: UserWarning: `Model.fit_generator` is deprecated and will be removed in a future version. Please use `Model.fit`, which supports generators.\n",
      "  cnn = model.fit_generator(\n"
     ]
    },
    {
     "name": "stdout",
     "output_type": "stream",
     "text": [
      "Epoch 1/50\n",
      "13/13 [==============================] - 10s 712ms/step - loss: 1.7186 - accuracy: 0.5962 - val_loss: 0.8292 - val_accuracy: 0.3955\n",
      "Epoch 2/50\n",
      "13/13 [==============================] - 9s 684ms/step - loss: 0.4971 - accuracy: 0.7356 - val_loss: 0.9213 - val_accuracy: 0.4552\n",
      "Epoch 3/50\n",
      "13/13 [==============================] - 9s 679ms/step - loss: 0.4054 - accuracy: 0.8341 - val_loss: 0.6395 - val_accuracy: 0.5970\n",
      "Epoch 4/50\n",
      "13/13 [==============================] - 9s 693ms/step - loss: 0.3484 - accuracy: 0.8462 - val_loss: 0.7333 - val_accuracy: 0.5821\n",
      "Epoch 5/50\n",
      "13/13 [==============================] - 9s 702ms/step - loss: 0.2950 - accuracy: 0.8870 - val_loss: 0.6144 - val_accuracy: 0.6418\n",
      "Epoch 6/50\n",
      "13/13 [==============================] - 9s 718ms/step - loss: 0.2486 - accuracy: 0.9135 - val_loss: 0.5741 - val_accuracy: 0.7313\n",
      "Epoch 7/50\n",
      "13/13 [==============================] - 9s 707ms/step - loss: 0.2281 - accuracy: 0.9111 - val_loss: 0.4890 - val_accuracy: 0.7463\n",
      "Epoch 8/50\n",
      "13/13 [==============================] - 9s 706ms/step - loss: 0.2480 - accuracy: 0.9207 - val_loss: 0.3574 - val_accuracy: 0.8284\n",
      "Epoch 9/50\n",
      "13/13 [==============================] - 10s 723ms/step - loss: 0.1722 - accuracy: 0.9423 - val_loss: 0.3958 - val_accuracy: 0.7985\n",
      "Epoch 10/50\n",
      "13/13 [==============================] - 9s 713ms/step - loss: 0.1293 - accuracy: 0.9519 - val_loss: 0.3645 - val_accuracy: 0.8507\n",
      "Epoch 11/50\n",
      "13/13 [==============================] - 9s 710ms/step - loss: 0.1304 - accuracy: 0.9639 - val_loss: 0.3574 - val_accuracy: 0.8433\n",
      "Epoch 12/50\n",
      "13/13 [==============================] - 10s 724ms/step - loss: 0.1229 - accuracy: 0.9567 - val_loss: 0.2504 - val_accuracy: 0.8955\n",
      "Epoch 13/50\n",
      "13/13 [==============================] - 9s 714ms/step - loss: 0.1116 - accuracy: 0.9615 - val_loss: 0.2599 - val_accuracy: 0.8881\n",
      "Epoch 14/50\n",
      "13/13 [==============================] - 10s 722ms/step - loss: 0.0979 - accuracy: 0.9760 - val_loss: 0.3306 - val_accuracy: 0.8731\n",
      "Epoch 15/50\n",
      "13/13 [==============================] - 9s 708ms/step - loss: 0.0850 - accuracy: 0.9784 - val_loss: 0.2747 - val_accuracy: 0.8881\n",
      "Epoch 16/50\n",
      "13/13 [==============================] - 9s 708ms/step - loss: 0.0864 - accuracy: 0.9663 - val_loss: 0.1893 - val_accuracy: 0.9328\n",
      "Epoch 17/50\n",
      "13/13 [==============================] - 10s 725ms/step - loss: 0.0832 - accuracy: 0.9784 - val_loss: 0.2951 - val_accuracy: 0.8955\n",
      "Epoch 18/50\n",
      "13/13 [==============================] - 9s 706ms/step - loss: 0.0775 - accuracy: 0.9736 - val_loss: 0.2890 - val_accuracy: 0.8806\n",
      "Epoch 19/50\n",
      "13/13 [==============================] - 10s 720ms/step - loss: 0.0706 - accuracy: 0.9808 - val_loss: 0.3115 - val_accuracy: 0.8881\n",
      "Epoch 20/50\n",
      "13/13 [==============================] - 10s 717ms/step - loss: 0.0548 - accuracy: 0.9808 - val_loss: 0.2182 - val_accuracy: 0.9179\n",
      "Epoch 21/50\n",
      "13/13 [==============================] - 10s 727ms/step - loss: 0.0480 - accuracy: 0.9904 - val_loss: 0.2489 - val_accuracy: 0.9104\n",
      "Epoch 22/50\n",
      "13/13 [==============================] - 10s 720ms/step - loss: 0.0548 - accuracy: 0.9880 - val_loss: 0.2291 - val_accuracy: 0.9254\n",
      "Epoch 23/50\n",
      "13/13 [==============================] - 10s 724ms/step - loss: 0.0622 - accuracy: 0.9856 - val_loss: 0.2287 - val_accuracy: 0.9179\n",
      "Epoch 24/50\n",
      "13/13 [==============================] - 9s 713ms/step - loss: 0.0556 - accuracy: 0.9856 - val_loss: 0.1944 - val_accuracy: 0.9104\n",
      "Epoch 25/50\n",
      "13/13 [==============================] - 9s 717ms/step - loss: 0.0474 - accuracy: 0.9856 - val_loss: 0.2993 - val_accuracy: 0.8955\n",
      "Epoch 26/50\n",
      "13/13 [==============================] - 10s 756ms/step - loss: 0.0517 - accuracy: 0.9880 - val_loss: 0.2562 - val_accuracy: 0.9104\n",
      "Epoch 27/50\n",
      "13/13 [==============================] - 10s 735ms/step - loss: 0.0575 - accuracy: 0.9880 - val_loss: 0.3450 - val_accuracy: 0.9030\n",
      "Epoch 28/50\n",
      "13/13 [==============================] - 10s 723ms/step - loss: 0.0297 - accuracy: 0.9928 - val_loss: 0.2761 - val_accuracy: 0.9104\n",
      "Epoch 29/50\n",
      "13/13 [==============================] - 10s 726ms/step - loss: 0.0397 - accuracy: 0.9856 - val_loss: 0.2861 - val_accuracy: 0.8955\n",
      "Epoch 30/50\n",
      "13/13 [==============================] - 10s 723ms/step - loss: 0.0282 - accuracy: 0.9952 - val_loss: 0.2959 - val_accuracy: 0.9030\n",
      "Epoch 31/50\n",
      "13/13 [==============================] - 10s 727ms/step - loss: 0.0388 - accuracy: 0.9880 - val_loss: 0.4553 - val_accuracy: 0.8657\n",
      "Epoch 32/50\n",
      "13/13 [==============================] - 10s 730ms/step - loss: 0.0383 - accuracy: 0.9928 - val_loss: 0.2099 - val_accuracy: 0.9179\n",
      "Epoch 33/50\n",
      "13/13 [==============================] - 10s 721ms/step - loss: 0.0267 - accuracy: 0.9928 - val_loss: 0.5194 - val_accuracy: 0.8731\n",
      "Epoch 34/50\n",
      "13/13 [==============================] - 10s 725ms/step - loss: 0.0466 - accuracy: 0.9904 - val_loss: 0.3614 - val_accuracy: 0.9030\n",
      "Epoch 35/50\n",
      "13/13 [==============================] - 10s 722ms/step - loss: 0.0377 - accuracy: 0.9904 - val_loss: 0.2784 - val_accuracy: 0.9104\n",
      "Epoch 36/50\n",
      "13/13 [==============================] - 10s 734ms/step - loss: 0.0322 - accuracy: 0.9928 - val_loss: 0.2533 - val_accuracy: 0.9254\n",
      "Epoch 37/50\n",
      "13/13 [==============================] - 10s 720ms/step - loss: 0.0449 - accuracy: 0.9880 - val_loss: 0.1745 - val_accuracy: 0.9403\n",
      "Epoch 38/50\n",
      "13/13 [==============================] - 10s 729ms/step - loss: 0.0824 - accuracy: 0.9784 - val_loss: 0.8093 - val_accuracy: 0.8582\n",
      "Epoch 39/50\n",
      "13/13 [==============================] - 10s 722ms/step - loss: 0.0960 - accuracy: 0.9688 - val_loss: 0.3985 - val_accuracy: 0.8731\n",
      "Epoch 40/50\n",
      "13/13 [==============================] - 10s 728ms/step - loss: 0.0346 - accuracy: 0.9952 - val_loss: 0.4040 - val_accuracy: 0.8881\n",
      "Epoch 41/50\n",
      "13/13 [==============================] - 10s 730ms/step - loss: 0.0412 - accuracy: 0.9880 - val_loss: 0.3542 - val_accuracy: 0.9030\n",
      "Epoch 42/50\n",
      "13/13 [==============================] - 10s 728ms/step - loss: 0.0247 - accuracy: 0.9952 - val_loss: 0.2913 - val_accuracy: 0.9179\n",
      "Epoch 43/50\n",
      "13/13 [==============================] - 10s 733ms/step - loss: 0.0295 - accuracy: 0.9928 - val_loss: 0.4185 - val_accuracy: 0.8955\n",
      "Epoch 44/50\n",
      "13/13 [==============================] - 10s 734ms/step - loss: 0.0168 - accuracy: 0.9952 - val_loss: 0.2590 - val_accuracy: 0.9179\n",
      "Epoch 45/50\n",
      "13/13 [==============================] - 10s 722ms/step - loss: 0.0386 - accuracy: 0.9856 - val_loss: 0.3671 - val_accuracy: 0.8881\n",
      "Epoch 46/50\n",
      "13/13 [==============================] - 10s 725ms/step - loss: 0.0283 - accuracy: 0.9976 - val_loss: 0.3106 - val_accuracy: 0.9030\n",
      "Epoch 47/50\n",
      "13/13 [==============================] - 10s 744ms/step - loss: 0.0454 - accuracy: 0.9856 - val_loss: 0.4209 - val_accuracy: 0.8881\n",
      "Epoch 48/50\n",
      "13/13 [==============================] - 10s 732ms/step - loss: 0.0283 - accuracy: 0.9928 - val_loss: 0.2892 - val_accuracy: 0.9179\n",
      "Epoch 49/50\n",
      "13/13 [==============================] - 10s 750ms/step - loss: 0.0316 - accuracy: 0.9952 - val_loss: 0.7758 - val_accuracy: 0.8657\n",
      "Epoch 50/50\n",
      "13/13 [==============================] - 10s 721ms/step - loss: 0.0511 - accuracy: 0.9856 - val_loss: 0.1951 - val_accuracy: 0.9403\n"
     ]
    }
   ],
   "source": [
    "# fitting the model\n",
    "cnn = model.fit_generator(\n",
    "  training_set,\n",
    "  validation_data=test_set,\n",
    "  epochs=50,\n",
    "  steps_per_epoch=len(training_set),\n",
    "  validation_steps=len(test_set)\n",
    ")"
   ]
  },
  {
   "cell_type": "code",
   "execution_count": 50,
   "metadata": {},
   "outputs": [
    {
     "data": {
      "image/png": "[encoded data removed]",
      "text/plain": [
       "<Figure size 432x288 with 1 Axes>"
      ]
     },
     "metadata": {
      "needs_background": "light"
     },
     "output_type": "display_data"
    },
    {
     "data": {
      "image/png": "[encoded data removed]",
      "text/plain": [
       "<Figure size 432x288 with 1 Axes>"
      ]
     },
     "metadata": {
      "needs_background": "light"
     },
     "output_type": "display_data"
    },
    {
     "data": {
      "text/plain": [
       "<Figure size 432x288 with 0 Axes>"
      ]
     },
     "metadata": {},
     "output_type": "display_data"
    }
   ],
   "source": [
    "## Plotting loss and accuracy.\n",
    "plt.plot(cnn.history['loss'], label='train loss')\n",
    "plt.plot(cnn.history['val_loss'], label='val loss')\n",
    "plt.legend()\n",
    "plt.show()\n",
    "plt.savefig('LossVal_loss')\n",
    "\n",
    "# plot the accuracy\n",
    "plt.plot(cnn.history['accuracy'], label='train acc')\n",
    "plt.plot(cnn.history['val_accuracy'], label='val acc')\n",
    "plt.legend()\n",
    "plt.show()\n",
    "plt.savefig('AccVal_acc')"
   ]
  },
  {
   "cell_type": "code",
   "execution_count": 51,
   "metadata": {},
   "outputs": [],
   "source": [
    "##saving the keras model.\n",
    "model.save('malaria.h5')"
   ]
  },
  {
   "cell_type": "code",
   "execution_count": null,
   "metadata": {},
   "outputs": [],
   "source": []
  }
 ],
 "metadata": {
  "kernelspec": {
   "display_name": "Python 3",
   "language": "python",
   "name": "python3"
  },
  "language_info": {
   "codemirror_mode": {
    "name": "ipython",
    "version": 3
   },
   "file_extension": ".py",
   "mimetype": "text/x-python",
   "name": "python",
   "nbconvert_exporter": "python",
   "pygments_lexer": "ipython3",
   "version": "3.9.0"
  }
 },
 "nbformat": 4,
 "nbformat_minor": 4
}
